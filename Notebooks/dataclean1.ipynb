{
 "cells": [
  {
   "cell_type": "code",
   "execution_count": 1,
   "metadata": {},
   "outputs": [],
   "source": [
    "import pandas as pd"
   ]
  },
  {
   "cell_type": "code",
   "execution_count": 2,
   "metadata": {},
   "outputs": [
    {
     "name": "stderr",
     "output_type": "stream",
     "text": [
      "/Applications/anaconda3/lib/python3.7/site-packages/IPython/core/interactiveshell.py:3058: DtypeWarning: Columns (9,10) have mixed types. Specify dtype option on import or set low_memory=False.\n",
      "  interactivity=interactivity, compiler=compiler, result=result)\n"
     ]
    }
   ],
   "source": [
    "full_data = pd.read_csv('12milcd.csv')"
   ]
  },
  {
   "cell_type": "code",
   "execution_count": 3,
   "metadata": {
    "scrolled": false
   },
   "outputs": [
    {
     "data": {
      "text/html": [
       "<div>\n",
       "<style scoped>\n",
       "    .dataframe tbody tr th:only-of-type {\n",
       "        vertical-align: middle;\n",
       "    }\n",
       "\n",
       "    .dataframe tbody tr th {\n",
       "        vertical-align: top;\n",
       "    }\n",
       "\n",
       "    .dataframe thead th {\n",
       "        text-align: right;\n",
       "    }\n",
       "</style>\n",
       "<table border=\"1\" class=\"dataframe\">\n",
       "  <thead>\n",
       "    <tr style=\"text-align: right;\">\n",
       "      <th></th>\n",
       "      <th>Id</th>\n",
       "      <th>Price</th>\n",
       "      <th>Year</th>\n",
       "      <th>Mileage</th>\n",
       "      <th>City</th>\n",
       "      <th>State</th>\n",
       "      <th>Vin</th>\n",
       "      <th>Make</th>\n",
       "      <th>Model</th>\n",
       "      <th>drop1</th>\n",
       "      <th>drop2</th>\n",
       "    </tr>\n",
       "  </thead>\n",
       "  <tbody>\n",
       "    <tr>\n",
       "      <td>0</td>\n",
       "      <td>1</td>\n",
       "      <td>16472</td>\n",
       "      <td>2015</td>\n",
       "      <td>18681</td>\n",
       "      <td>Jefferson City</td>\n",
       "      <td>MO</td>\n",
       "      <td>KL4CJBSBXFB267643</td>\n",
       "      <td>Buick</td>\n",
       "      <td>EncoreConvenience</td>\n",
       "      <td>NaN</td>\n",
       "      <td>NaN</td>\n",
       "    </tr>\n",
       "    <tr>\n",
       "      <td>1</td>\n",
       "      <td>2</td>\n",
       "      <td>15749</td>\n",
       "      <td>2015</td>\n",
       "      <td>27592</td>\n",
       "      <td>Highland</td>\n",
       "      <td>IN</td>\n",
       "      <td>KL4CJASB5FB245057</td>\n",
       "      <td>Buick</td>\n",
       "      <td>EncoreFWD</td>\n",
       "      <td>NaN</td>\n",
       "      <td>NaN</td>\n",
       "    </tr>\n",
       "    <tr>\n",
       "      <td>2</td>\n",
       "      <td>3</td>\n",
       "      <td>16998</td>\n",
       "      <td>2015</td>\n",
       "      <td>13650</td>\n",
       "      <td>Boone</td>\n",
       "      <td>NC</td>\n",
       "      <td>KL4CJCSB0FB264921</td>\n",
       "      <td>Buick</td>\n",
       "      <td>EncoreLeather</td>\n",
       "      <td>NaN</td>\n",
       "      <td>NaN</td>\n",
       "    </tr>\n",
       "    <tr>\n",
       "      <td>3</td>\n",
       "      <td>4</td>\n",
       "      <td>15777</td>\n",
       "      <td>2015</td>\n",
       "      <td>25195</td>\n",
       "      <td>New Orleans</td>\n",
       "      <td>LA</td>\n",
       "      <td>KL4CJASB4FB217542</td>\n",
       "      <td>Buick</td>\n",
       "      <td>EncoreFWD</td>\n",
       "      <td>NaN</td>\n",
       "      <td>NaN</td>\n",
       "    </tr>\n",
       "    <tr>\n",
       "      <td>4</td>\n",
       "      <td>5</td>\n",
       "      <td>16784</td>\n",
       "      <td>2015</td>\n",
       "      <td>22800</td>\n",
       "      <td>Las Vegas</td>\n",
       "      <td>NV</td>\n",
       "      <td>KL4CJBSB3FB166881</td>\n",
       "      <td>Buick</td>\n",
       "      <td>EncoreConvenience</td>\n",
       "      <td>NaN</td>\n",
       "      <td>NaN</td>\n",
       "    </tr>\n",
       "    <tr>\n",
       "      <td>...</td>\n",
       "      <td>...</td>\n",
       "      <td>...</td>\n",
       "      <td>...</td>\n",
       "      <td>...</td>\n",
       "      <td>...</td>\n",
       "      <td>...</td>\n",
       "      <td>...</td>\n",
       "      <td>...</td>\n",
       "      <td>...</td>\n",
       "      <td>...</td>\n",
       "      <td>...</td>\n",
       "    </tr>\n",
       "    <tr>\n",
       "      <td>1233037</td>\n",
       "      <td>1233038</td>\n",
       "      <td>79900</td>\n",
       "      <td>2017</td>\n",
       "      <td>25</td>\n",
       "      <td>East Hanover</td>\n",
       "      <td>NJ</td>\n",
       "      <td>YV4BC0ZX0H1128239</td>\n",
       "      <td>Volvo</td>\n",
       "      <td>XC90T8</td>\n",
       "      <td>NaN</td>\n",
       "      <td>NaN</td>\n",
       "    </tr>\n",
       "    <tr>\n",
       "      <td>1233038</td>\n",
       "      <td>1233039</td>\n",
       "      <td>80895</td>\n",
       "      <td>2017</td>\n",
       "      <td>10</td>\n",
       "      <td>Corte Madera</td>\n",
       "      <td>CA</td>\n",
       "      <td>YV4BC0ZX0H1124188</td>\n",
       "      <td>Volvo</td>\n",
       "      <td>XC90T8</td>\n",
       "      <td>NaN</td>\n",
       "      <td>NaN</td>\n",
       "    </tr>\n",
       "    <tr>\n",
       "      <td>1233039</td>\n",
       "      <td>1233040</td>\n",
       "      <td>68755</td>\n",
       "      <td>2018</td>\n",
       "      <td>2500</td>\n",
       "      <td>Englewood</td>\n",
       "      <td>NJ</td>\n",
       "      <td>YV4A22PL4J1212676</td>\n",
       "      <td>Volvo</td>\n",
       "      <td>XC90T6</td>\n",
       "      <td>NaN</td>\n",
       "      <td>NaN</td>\n",
       "    </tr>\n",
       "    <tr>\n",
       "      <td>1233040</td>\n",
       "      <td>1233041</td>\n",
       "      <td>72260</td>\n",
       "      <td>2017</td>\n",
       "      <td>3201</td>\n",
       "      <td>Englewood</td>\n",
       "      <td>NJ</td>\n",
       "      <td>YV4A22PL3H1186162</td>\n",
       "      <td>Volvo</td>\n",
       "      <td>XC90T6</td>\n",
       "      <td>NaN</td>\n",
       "      <td>NaN</td>\n",
       "    </tr>\n",
       "    <tr>\n",
       "      <td>1233041</td>\n",
       "      <td>1233042</td>\n",
       "      <td>60240</td>\n",
       "      <td>2017</td>\n",
       "      <td>8342</td>\n",
       "      <td>San Leandro</td>\n",
       "      <td>CA</td>\n",
       "      <td>YV4A22NLXH1006162</td>\n",
       "      <td>Volvo</td>\n",
       "      <td>V90</td>\n",
       "      <td>NaN</td>\n",
       "      <td>NaN</td>\n",
       "    </tr>\n",
       "  </tbody>\n",
       "</table>\n",
       "<p>1233042 rows × 11 columns</p>\n",
       "</div>"
      ],
      "text/plain": [
       "              Id  Price  Year  Mileage            City State  \\\n",
       "0              1  16472  2015    18681  Jefferson City    MO   \n",
       "1              2  15749  2015    27592        Highland    IN   \n",
       "2              3  16998  2015    13650           Boone    NC   \n",
       "3              4  15777  2015    25195     New Orleans    LA   \n",
       "4              5  16784  2015    22800       Las Vegas    NV   \n",
       "...          ...    ...   ...      ...             ...   ...   \n",
       "1233037  1233038  79900  2017       25    East Hanover    NJ   \n",
       "1233038  1233039  80895  2017       10    Corte Madera    CA   \n",
       "1233039  1233040  68755  2018     2500       Englewood    NJ   \n",
       "1233040  1233041  72260  2017     3201       Englewood    NJ   \n",
       "1233041  1233042  60240  2017     8342     San Leandro    CA   \n",
       "\n",
       "                       Vin   Make              Model drop1 drop2  \n",
       "0        KL4CJBSBXFB267643  Buick  EncoreConvenience   NaN   NaN  \n",
       "1        KL4CJASB5FB245057  Buick          EncoreFWD   NaN   NaN  \n",
       "2        KL4CJCSB0FB264921  Buick      EncoreLeather   NaN   NaN  \n",
       "3        KL4CJASB4FB217542  Buick          EncoreFWD   NaN   NaN  \n",
       "4        KL4CJBSB3FB166881  Buick  EncoreConvenience   NaN   NaN  \n",
       "...                    ...    ...                ...   ...   ...  \n",
       "1233037  YV4BC0ZX0H1128239  Volvo             XC90T8   NaN   NaN  \n",
       "1233038  YV4BC0ZX0H1124188  Volvo             XC90T8   NaN   NaN  \n",
       "1233039  YV4A22PL4J1212676  Volvo             XC90T6   NaN   NaN  \n",
       "1233040  YV4A22PL3H1186162  Volvo             XC90T6   NaN   NaN  \n",
       "1233041  YV4A22NLXH1006162  Volvo                V90   NaN   NaN  \n",
       "\n",
       "[1233042 rows x 11 columns]"
      ]
     },
     "execution_count": 3,
     "metadata": {},
     "output_type": "execute_result"
    }
   ],
   "source": [
    "full_data"
   ]
  },
  {
   "cell_type": "code",
   "execution_count": 4,
   "metadata": {
    "scrolled": true
   },
   "outputs": [
    {
     "data": {
      "text/plain": [
       " TX    141741\n",
       " CA    115732\n",
       " FL    107379\n",
       " GA     55939\n",
       " IL     55262\n",
       " NC     53337\n",
       " VA     49220\n",
       " PA     40815\n",
       " NJ     38573\n",
       " NY     38332\n",
       " OH     34233\n",
       " WA     33456\n",
       " CO     33257\n",
       " AZ     33106\n",
       " TN     28035\n",
       " MA     26330\n",
       " MD     25436\n",
       " IN     23606\n",
       " MO     23479\n",
       " KY     20116\n",
       " AL     18772\n",
       " WI     16476\n",
       " MN     16031\n",
       " UT     15325\n",
       " MI     15303\n",
       " OK     15044\n",
       " CT     14961\n",
       " OR     14906\n",
       " SC     14316\n",
       " LA     11621\n",
       " KS     11152\n",
       " NV     10465\n",
       " AR      9704\n",
       " MS      8670\n",
       " NH      8320\n",
       " NE      7287\n",
       " NM      7127\n",
       " IA      6890\n",
       " ID      5090\n",
       " HI      3740\n",
       " DE      3737\n",
       " MT      2727\n",
       " ME      2623\n",
       " RI      2596\n",
       " AK      2289\n",
       " WV      2019\n",
       " ND      1878\n",
       " SD      1681\n",
       " VT      1543\n",
       " Fl      1079\n",
       " WY      1008\n",
       " Va       393\n",
       " Md       239\n",
       " Ga       200\n",
       " ga       185\n",
       " Oh        96\n",
       " Az        91\n",
       " Ca        45\n",
       " DC        29\n",
       "Name: State, dtype: int64"
      ]
     },
     "execution_count": 4,
     "metadata": {},
     "output_type": "execute_result"
    }
   ],
   "source": [
    "full_data['State'].value_counts()"
   ]
  },
  {
   "cell_type": "code",
   "execution_count": 5,
   "metadata": {},
   "outputs": [
    {
     "data": {
      "text/plain": [
       "59"
      ]
     },
     "execution_count": 5,
     "metadata": {},
     "output_type": "execute_result"
    }
   ],
   "source": [
    "unique6 = full_data['State'].nunique()\n",
    "unique6"
   ]
  },
  {
   "cell_type": "code",
   "execution_count": 6,
   "metadata": {
    "scrolled": true
   },
   "outputs": [],
   "source": [
    "ga = full_data[~full_data.State.str.contains(\"ga\")]"
   ]
  },
  {
   "cell_type": "code",
   "execution_count": 7,
   "metadata": {},
   "outputs": [
    {
     "name": "stderr",
     "output_type": "stream",
     "text": [
      "/Applications/anaconda3/lib/python3.7/site-packages/ipykernel_launcher.py:1: UserWarning: Boolean Series key will be reindexed to match DataFrame index.\n",
      "  \"\"\"Entry point for launching an IPython kernel.\n"
     ]
    }
   ],
   "source": [
    "Ca = ga[~full_data.State.str.contains(\"Ca\")]"
   ]
  },
  {
   "cell_type": "code",
   "execution_count": 8,
   "metadata": {},
   "outputs": [
    {
     "name": "stderr",
     "output_type": "stream",
     "text": [
      "/Applications/anaconda3/lib/python3.7/site-packages/ipykernel_launcher.py:1: UserWarning: Boolean Series key will be reindexed to match DataFrame index.\n",
      "  \"\"\"Entry point for launching an IPython kernel.\n"
     ]
    }
   ],
   "source": [
    "Va = Ca[~full_data.State.str.contains(\"Va\")]"
   ]
  },
  {
   "cell_type": "code",
   "execution_count": 9,
   "metadata": {},
   "outputs": [
    {
     "name": "stderr",
     "output_type": "stream",
     "text": [
      "/Applications/anaconda3/lib/python3.7/site-packages/ipykernel_launcher.py:1: UserWarning: Boolean Series key will be reindexed to match DataFrame index.\n",
      "  \"\"\"Entry point for launching an IPython kernel.\n"
     ]
    }
   ],
   "source": [
    "Md = Va[~full_data.State.str.contains(\"Md\")]"
   ]
  },
  {
   "cell_type": "code",
   "execution_count": 10,
   "metadata": {},
   "outputs": [
    {
     "name": "stderr",
     "output_type": "stream",
     "text": [
      "/Applications/anaconda3/lib/python3.7/site-packages/ipykernel_launcher.py:1: UserWarning: Boolean Series key will be reindexed to match DataFrame index.\n",
      "  \"\"\"Entry point for launching an IPython kernel.\n"
     ]
    }
   ],
   "source": [
    "Ga = Md[~full_data.State.str.contains(\"Ga\")]"
   ]
  },
  {
   "cell_type": "code",
   "execution_count": 11,
   "metadata": {},
   "outputs": [
    {
     "name": "stderr",
     "output_type": "stream",
     "text": [
      "/Applications/anaconda3/lib/python3.7/site-packages/ipykernel_launcher.py:1: UserWarning: Boolean Series key will be reindexed to match DataFrame index.\n",
      "  \"\"\"Entry point for launching an IPython kernel.\n"
     ]
    }
   ],
   "source": [
    "Oh = Ga[~full_data.State.str.contains(\"Oh\")]"
   ]
  },
  {
   "cell_type": "code",
   "execution_count": 12,
   "metadata": {},
   "outputs": [
    {
     "name": "stderr",
     "output_type": "stream",
     "text": [
      "/Applications/anaconda3/lib/python3.7/site-packages/ipykernel_launcher.py:1: UserWarning: Boolean Series key will be reindexed to match DataFrame index.\n",
      "  \"\"\"Entry point for launching an IPython kernel.\n"
     ]
    }
   ],
   "source": [
    "Az = Oh[~full_data.State.str.contains(\"Az\")]"
   ]
  },
  {
   "cell_type": "code",
   "execution_count": 13,
   "metadata": {
    "scrolled": true
   },
   "outputs": [
    {
     "name": "stderr",
     "output_type": "stream",
     "text": [
      "/Applications/anaconda3/lib/python3.7/site-packages/ipykernel_launcher.py:1: UserWarning: Boolean Series key will be reindexed to match DataFrame index.\n",
      "  \"\"\"Entry point for launching an IPython kernel.\n"
     ]
    }
   ],
   "source": [
    "Fl = Az[~full_data.State.str.contains(\"Fl\")]"
   ]
  },
  {
   "cell_type": "code",
   "execution_count": 45,
   "metadata": {},
   "outputs": [
    {
     "data": {
      "text/plain": [
       "51"
      ]
     },
     "execution_count": 45,
     "metadata": {},
     "output_type": "execute_result"
    }
   ],
   "source": [
    "unique8 = Fl['State'].nunique()\n",
    "unique8"
   ]
  },
  {
   "cell_type": "code",
   "execution_count": 46,
   "metadata": {},
   "outputs": [],
   "source": [
    "Fl.to_csv('next_dataset2.csv')"
   ]
  },
  {
   "cell_type": "code",
   "execution_count": 47,
   "metadata": {},
   "outputs": [
    {
     "name": "stderr",
     "output_type": "stream",
     "text": [
      "/Applications/anaconda3/lib/python3.7/site-packages/ipykernel_launcher.py:2: SettingWithCopyWarning: \n",
      "A value is trying to be set on a copy of a slice from a DataFrame.\n",
      "Try using .loc[row_indexer,col_indexer] = value instead\n",
      "\n",
      "See the caveats in the documentation: http://pandas.pydata.org/pandas-docs/stable/user_guide/indexing.html#returning-a-view-versus-a-copy\n",
      "  \n"
     ]
    }
   ],
   "source": [
    "Fl['Model'] = Fl['Model'].replace(\n",
    "    {'Soul#NAME?': 'Soul'})"
   ]
  },
  {
   "cell_type": "code",
   "execution_count": 48,
   "metadata": {},
   "outputs": [
    {
     "name": "stderr",
     "output_type": "stream",
     "text": [
      "/Applications/anaconda3/lib/python3.7/site-packages/ipykernel_launcher.py:2: SettingWithCopyWarning: \n",
      "A value is trying to be set on a copy of a slice from a DataFrame.\n",
      "Try using .loc[row_indexer,col_indexer] = value instead\n",
      "\n",
      "See the caveats in the documentation: http://pandas.pydata.org/pandas-docs/stable/user_guide/indexing.html#returning-a-view-versus-a-copy\n",
      "  \n"
     ]
    }
   ],
   "source": [
    "Fl['Model'] = Fl['Model'].replace(\n",
    "    {'RDX*1-OWNER*LTHR*ROOF*BACK-UP*TECH': 'RDX'})"
   ]
  },
  {
   "cell_type": "code",
   "execution_count": 49,
   "metadata": {},
   "outputs": [
    {
     "name": "stderr",
     "output_type": "stream",
     "text": [
      "/Applications/anaconda3/lib/python3.7/site-packages/ipykernel_launcher.py:2: SettingWithCopyWarning: \n",
      "A value is trying to be set on a copy of a slice from a DataFrame.\n",
      "Try using .loc[row_indexer,col_indexer] = value instead\n",
      "\n",
      "See the caveats in the documentation: http://pandas.pydata.org/pandas-docs/stable/user_guide/indexing.html#returning-a-view-versus-a-copy\n",
      "  \n"
     ]
    }
   ],
   "source": [
    "Fl['Model'] = Fl['Model'].replace(\n",
    "    {'MalibuFleet*1-Owner*Clean': 'MalibuFleet'})"
   ]
  },
  {
   "cell_type": "code",
   "execution_count": 50,
   "metadata": {},
   "outputs": [
    {
     "name": "stderr",
     "output_type": "stream",
     "text": [
      "/Applications/anaconda3/lib/python3.7/site-packages/ipykernel_launcher.py:2: SettingWithCopyWarning: \n",
      "A value is trying to be set on a copy of a slice from a DataFrame.\n",
      "Try using .loc[row_indexer,col_indexer] = value instead\n",
      "\n",
      "See the caveats in the documentation: http://pandas.pydata.org/pandas-docs/stable/user_guide/indexing.html#returning-a-view-versus-a-copy\n",
      "  \n"
     ]
    }
   ],
   "source": [
    "Fl['Model'] = Fl['Model'].replace(\n",
    "    {'1500**7\"\"\"': '1500'})"
   ]
  },
  {
   "cell_type": "code",
   "execution_count": 51,
   "metadata": {},
   "outputs": [
    {
     "name": "stderr",
     "output_type": "stream",
     "text": [
      "/Applications/anaconda3/lib/python3.7/site-packages/ipykernel_launcher.py:2: SettingWithCopyWarning: \n",
      "A value is trying to be set on a copy of a slice from a DataFrame.\n",
      "Try using .loc[row_indexer,col_indexer] = value instead\n",
      "\n",
      "See the caveats in the documentation: http://pandas.pydata.org/pandas-docs/stable/user_guide/indexing.html#returning-a-view-versus-a-copy\n",
      "  \n"
     ]
    }
   ],
   "source": [
    "Fl['Model'] = Fl['Model'].replace(\n",
    "    {'\"Expedition119\"\"\"': 'Expedition119'})"
   ]
  },
  {
   "cell_type": "code",
   "execution_count": 52,
   "metadata": {
    "scrolled": true
   },
   "outputs": [
    {
     "name": "stderr",
     "output_type": "stream",
     "text": [
      "/Applications/anaconda3/lib/python3.7/site-packages/ipykernel_launcher.py:2: SettingWithCopyWarning: \n",
      "A value is trying to be set on a copy of a slice from a DataFrame.\n",
      "Try using .loc[row_indexer,col_indexer] = value instead\n",
      "\n",
      "See the caveats in the documentation: http://pandas.pydata.org/pandas-docs/stable/user_guide/indexing.html#returning-a-view-versus-a-copy\n",
      "  \n"
     ]
    }
   ],
   "source": [
    "Fl['Model'] = Fl['Model'].replace(\n",
    "    {'\"Excursion137\"\"\"': 'Expedition119'})"
   ]
  },
  {
   "cell_type": "code",
   "execution_count": 53,
   "metadata": {},
   "outputs": [
    {
     "data": {
      "text/plain": [
       "51"
      ]
     },
     "execution_count": 53,
     "metadata": {},
     "output_type": "execute_result"
    }
   ],
   "source": [
    "unique10 = Fl['State'].nunique()\n",
    "unique10"
   ]
  },
  {
   "cell_type": "code",
   "execution_count": null,
   "metadata": {},
   "outputs": [],
   "source": []
  },
  {
   "cell_type": "code",
   "execution_count": 21,
   "metadata": {},
   "outputs": [],
   "source": [
    "# Fl.to_csv('new_temporary_dataset1.csv')"
   ]
  },
  {
   "cell_type": "code",
   "execution_count": 22,
   "metadata": {},
   "outputs": [],
   "source": [
    "# Fl.to_csv('temporary_dataset.csv')"
   ]
  },
  {
   "cell_type": "code",
   "execution_count": 23,
   "metadata": {},
   "outputs": [],
   "source": [
    "# unique = full_data['Vin'].nunique()\n",
    "# unique"
   ]
  },
  {
   "cell_type": "code",
   "execution_count": 54,
   "metadata": {},
   "outputs": [
    {
     "name": "stdout",
     "output_type": "stream",
     "text": [
      "              Id  Price  Year  Mileage            City State  \\\n",
      "0              1  16472  2015    18681  Jefferson City    MO   \n",
      "1              2  15749  2015    27592        Highland    IN   \n",
      "2              3  16998  2015    13650           Boone    NC   \n",
      "3              4  15777  2015    25195     New Orleans    LA   \n",
      "4              5  16784  2015    22800       Las Vegas    NV   \n",
      "...          ...    ...   ...      ...             ...   ...   \n",
      "1233037  1233038  79900  2017       25    East Hanover    NJ   \n",
      "1233038  1233039  80895  2017       10    Corte Madera    CA   \n",
      "1233039  1233040  68755  2018     2500       Englewood    NJ   \n",
      "1233040  1233041  72260  2017     3201       Englewood    NJ   \n",
      "1233041  1233042  60240  2017     8342     San Leandro    CA   \n",
      "\n",
      "                       Vin   Make              Model  \n",
      "0        KL4CJBSBXFB267643  Buick  EncoreConvenience  \n",
      "1        KL4CJASB5FB245057  Buick          EncoreFWD  \n",
      "2        KL4CJCSB0FB264921  Buick      EncoreLeather  \n",
      "3        KL4CJASB4FB217542  Buick          EncoreFWD  \n",
      "4        KL4CJBSB3FB166881  Buick  EncoreConvenience  \n",
      "...                    ...    ...                ...  \n",
      "1233037  YV4BC0ZX0H1128239  Volvo             XC90T8  \n",
      "1233038  YV4BC0ZX0H1124188  Volvo             XC90T8  \n",
      "1233039  YV4A22PL4J1212676  Volvo             XC90T6  \n",
      "1233040  YV4A22PL3H1186162  Volvo             XC90T6  \n",
      "1233041  YV4A22NLXH1006162  Volvo                V90  \n",
      "\n",
      "[1233042 rows x 9 columns]\n"
     ]
    }
   ],
   "source": [
    "new_data5 = Fl.drop_duplicates(subset=['Vin'], keep='first')\n",
    "print(new_data)"
   ]
  },
  {
   "cell_type": "code",
   "execution_count": 55,
   "metadata": {},
   "outputs": [],
   "source": [
    "new_data5.drop(['drop1', 'drop2'],axis=1,inplace=True)"
   ]
  },
  {
   "cell_type": "code",
   "execution_count": 26,
   "metadata": {},
   "outputs": [],
   "source": [
    "# new_data"
   ]
  },
  {
   "cell_type": "code",
   "execution_count": 27,
   "metadata": {},
   "outputs": [],
   "source": [
    "# new_data.count()"
   ]
  },
  {
   "cell_type": "code",
   "execution_count": 28,
   "metadata": {},
   "outputs": [],
   "source": [
    "# new_data.dtypes"
   ]
  },
  {
   "cell_type": "code",
   "execution_count": 29,
   "metadata": {},
   "outputs": [],
   "source": [
    "# new_data['Make'].value_counts()"
   ]
  },
  {
   "cell_type": "code",
   "execution_count": 30,
   "metadata": {
    "scrolled": true
   },
   "outputs": [],
   "source": [
    "# new_data['Model'].value_counts()"
   ]
  },
  {
   "cell_type": "code",
   "execution_count": 31,
   "metadata": {},
   "outputs": [
    {
     "data": {
      "text/plain": [
       "(1233042, 9)"
      ]
     },
     "execution_count": 31,
     "metadata": {},
     "output_type": "execute_result"
    }
   ],
   "source": [
    "new_data.shape"
   ]
  },
  {
   "cell_type": "code",
   "execution_count": 56,
   "metadata": {
    "scrolled": true
   },
   "outputs": [
    {
     "data": {
      "text/html": [
       "<div>\n",
       "<style scoped>\n",
       "    .dataframe tbody tr th:only-of-type {\n",
       "        vertical-align: middle;\n",
       "    }\n",
       "\n",
       "    .dataframe tbody tr th {\n",
       "        vertical-align: top;\n",
       "    }\n",
       "\n",
       "    .dataframe thead th {\n",
       "        text-align: right;\n",
       "    }\n",
       "</style>\n",
       "<table border=\"1\" class=\"dataframe\">\n",
       "  <thead>\n",
       "    <tr style=\"text-align: right;\">\n",
       "      <th></th>\n",
       "      <th>Id</th>\n",
       "      <th>Price</th>\n",
       "      <th>Year</th>\n",
       "      <th>Mileage</th>\n",
       "      <th>City</th>\n",
       "      <th>State</th>\n",
       "      <th>Vin</th>\n",
       "      <th>Make</th>\n",
       "      <th>Model</th>\n",
       "    </tr>\n",
       "  </thead>\n",
       "  <tbody>\n",
       "    <tr>\n",
       "      <td>0</td>\n",
       "      <td>1</td>\n",
       "      <td>16472</td>\n",
       "      <td>2015</td>\n",
       "      <td>18681</td>\n",
       "      <td>Jefferson City</td>\n",
       "      <td>MO</td>\n",
       "      <td>KL4CJBSBXFB267643</td>\n",
       "      <td>Buick</td>\n",
       "      <td>EncoreConvenience</td>\n",
       "    </tr>\n",
       "    <tr>\n",
       "      <td>1</td>\n",
       "      <td>2</td>\n",
       "      <td>15749</td>\n",
       "      <td>2015</td>\n",
       "      <td>27592</td>\n",
       "      <td>Highland</td>\n",
       "      <td>IN</td>\n",
       "      <td>KL4CJASB5FB245057</td>\n",
       "      <td>Buick</td>\n",
       "      <td>EncoreFWD</td>\n",
       "    </tr>\n",
       "    <tr>\n",
       "      <td>2</td>\n",
       "      <td>3</td>\n",
       "      <td>16998</td>\n",
       "      <td>2015</td>\n",
       "      <td>13650</td>\n",
       "      <td>Boone</td>\n",
       "      <td>NC</td>\n",
       "      <td>KL4CJCSB0FB264921</td>\n",
       "      <td>Buick</td>\n",
       "      <td>EncoreLeather</td>\n",
       "    </tr>\n",
       "    <tr>\n",
       "      <td>3</td>\n",
       "      <td>4</td>\n",
       "      <td>15777</td>\n",
       "      <td>2015</td>\n",
       "      <td>25195</td>\n",
       "      <td>New Orleans</td>\n",
       "      <td>LA</td>\n",
       "      <td>KL4CJASB4FB217542</td>\n",
       "      <td>Buick</td>\n",
       "      <td>EncoreFWD</td>\n",
       "    </tr>\n",
       "    <tr>\n",
       "      <td>4</td>\n",
       "      <td>5</td>\n",
       "      <td>16784</td>\n",
       "      <td>2015</td>\n",
       "      <td>22800</td>\n",
       "      <td>Las Vegas</td>\n",
       "      <td>NV</td>\n",
       "      <td>KL4CJBSB3FB166881</td>\n",
       "      <td>Buick</td>\n",
       "      <td>EncoreConvenience</td>\n",
       "    </tr>\n",
       "    <tr>\n",
       "      <td>...</td>\n",
       "      <td>...</td>\n",
       "      <td>...</td>\n",
       "      <td>...</td>\n",
       "      <td>...</td>\n",
       "      <td>...</td>\n",
       "      <td>...</td>\n",
       "      <td>...</td>\n",
       "      <td>...</td>\n",
       "      <td>...</td>\n",
       "    </tr>\n",
       "    <tr>\n",
       "      <td>1233037</td>\n",
       "      <td>1233038</td>\n",
       "      <td>79900</td>\n",
       "      <td>2017</td>\n",
       "      <td>25</td>\n",
       "      <td>East Hanover</td>\n",
       "      <td>NJ</td>\n",
       "      <td>YV4BC0ZX0H1128239</td>\n",
       "      <td>Volvo</td>\n",
       "      <td>XC90T8</td>\n",
       "    </tr>\n",
       "    <tr>\n",
       "      <td>1233038</td>\n",
       "      <td>1233039</td>\n",
       "      <td>80895</td>\n",
       "      <td>2017</td>\n",
       "      <td>10</td>\n",
       "      <td>Corte Madera</td>\n",
       "      <td>CA</td>\n",
       "      <td>YV4BC0ZX0H1124188</td>\n",
       "      <td>Volvo</td>\n",
       "      <td>XC90T8</td>\n",
       "    </tr>\n",
       "    <tr>\n",
       "      <td>1233039</td>\n",
       "      <td>1233040</td>\n",
       "      <td>68755</td>\n",
       "      <td>2018</td>\n",
       "      <td>2500</td>\n",
       "      <td>Englewood</td>\n",
       "      <td>NJ</td>\n",
       "      <td>YV4A22PL4J1212676</td>\n",
       "      <td>Volvo</td>\n",
       "      <td>XC90T6</td>\n",
       "    </tr>\n",
       "    <tr>\n",
       "      <td>1233040</td>\n",
       "      <td>1233041</td>\n",
       "      <td>72260</td>\n",
       "      <td>2017</td>\n",
       "      <td>3201</td>\n",
       "      <td>Englewood</td>\n",
       "      <td>NJ</td>\n",
       "      <td>YV4A22PL3H1186162</td>\n",
       "      <td>Volvo</td>\n",
       "      <td>XC90T6</td>\n",
       "    </tr>\n",
       "    <tr>\n",
       "      <td>1233041</td>\n",
       "      <td>1233042</td>\n",
       "      <td>60240</td>\n",
       "      <td>2017</td>\n",
       "      <td>8342</td>\n",
       "      <td>San Leandro</td>\n",
       "      <td>CA</td>\n",
       "      <td>YV4A22NLXH1006162</td>\n",
       "      <td>Volvo</td>\n",
       "      <td>V90</td>\n",
       "    </tr>\n",
       "  </tbody>\n",
       "</table>\n",
       "<p>1230714 rows × 9 columns</p>\n",
       "</div>"
      ],
      "text/plain": [
       "              Id  Price  Year  Mileage            City State  \\\n",
       "0              1  16472  2015    18681  Jefferson City    MO   \n",
       "1              2  15749  2015    27592        Highland    IN   \n",
       "2              3  16998  2015    13650           Boone    NC   \n",
       "3              4  15777  2015    25195     New Orleans    LA   \n",
       "4              5  16784  2015    22800       Las Vegas    NV   \n",
       "...          ...    ...   ...      ...             ...   ...   \n",
       "1233037  1233038  79900  2017       25    East Hanover    NJ   \n",
       "1233038  1233039  80895  2017       10    Corte Madera    CA   \n",
       "1233039  1233040  68755  2018     2500       Englewood    NJ   \n",
       "1233040  1233041  72260  2017     3201       Englewood    NJ   \n",
       "1233041  1233042  60240  2017     8342     San Leandro    CA   \n",
       "\n",
       "                       Vin   Make              Model  \n",
       "0        KL4CJBSBXFB267643  Buick  EncoreConvenience  \n",
       "1        KL4CJASB5FB245057  Buick          EncoreFWD  \n",
       "2        KL4CJCSB0FB264921  Buick      EncoreLeather  \n",
       "3        KL4CJASB4FB217542  Buick          EncoreFWD  \n",
       "4        KL4CJBSB3FB166881  Buick  EncoreConvenience  \n",
       "...                    ...    ...                ...  \n",
       "1233037  YV4BC0ZX0H1128239  Volvo             XC90T8  \n",
       "1233038  YV4BC0ZX0H1124188  Volvo             XC90T8  \n",
       "1233039  YV4A22PL4J1212676  Volvo             XC90T6  \n",
       "1233040  YV4A22PL3H1186162  Volvo             XC90T6  \n",
       "1233041  YV4A22NLXH1006162  Volvo                V90  \n",
       "\n",
       "[1230714 rows x 9 columns]"
      ]
     },
     "execution_count": 56,
     "metadata": {},
     "output_type": "execute_result"
    }
   ],
   "source": [
    "new_data5"
   ]
  },
  {
   "cell_type": "code",
   "execution_count": 33,
   "metadata": {},
   "outputs": [],
   "source": [
    "# new_data.to_csv('dataset_1.csv')"
   ]
  },
  {
   "cell_type": "code",
   "execution_count": 57,
   "metadata": {},
   "outputs": [
    {
     "data": {
      "text/plain": [
       "array(['Buick', 'Acura', 'Alfa', 'Aston', 'Audi', 'Bentley', 'BMW',\n",
       "       'Cadillac', 'Chevrolet', 'Chrysler', 'Dodge', 'FIAT', 'Ford',\n",
       "       'GMC', 'Honda', 'Genesis', 'Geo', 'Freightliner', 'Ferrari',\n",
       "       'Fisker', 'AM', 'Jeep', 'Kia', 'Lamborghini', 'Land', 'Lexus',\n",
       "       'Lincoln', 'Lotus', 'Maserati', 'Maybach', 'Mazda', 'McLaren',\n",
       "       'Mercedes-Benz', 'Mercury', 'MINI', 'Mitsubishi', 'Nissan',\n",
       "       'Oldsmobile', 'Plymouth', 'Pontiac', 'Porsche', 'Ram',\n",
       "       'Rolls-Royce', 'Saab', 'Saturn', 'Scion', 'smart', 'Subaru',\n",
       "       'Suzuki', 'Tesla', 'Toyota', 'Volkswagen', 'Volvo', 'HUMMER',\n",
       "       'Hyundai', 'INFINITI', 'Isuzu', 'Jaguar'], dtype=object)"
      ]
     },
     "execution_count": 57,
     "metadata": {},
     "output_type": "execute_result"
    }
   ],
   "source": [
    "unique1 = new_data5['Make'].unique()\n",
    "unique1"
   ]
  },
  {
   "cell_type": "code",
   "execution_count": 58,
   "metadata": {},
   "outputs": [
    {
     "data": {
      "text/html": [
       "<div>\n",
       "<style scoped>\n",
       "    .dataframe tbody tr th:only-of-type {\n",
       "        vertical-align: middle;\n",
       "    }\n",
       "\n",
       "    .dataframe tbody tr th {\n",
       "        vertical-align: top;\n",
       "    }\n",
       "\n",
       "    .dataframe thead th {\n",
       "        text-align: right;\n",
       "    }\n",
       "</style>\n",
       "<table border=\"1\" class=\"dataframe\">\n",
       "  <thead>\n",
       "    <tr style=\"text-align: right;\">\n",
       "      <th></th>\n",
       "      <th>Id</th>\n",
       "      <th>Price</th>\n",
       "      <th>Year</th>\n",
       "      <th>Mileage</th>\n",
       "      <th>City</th>\n",
       "      <th>State</th>\n",
       "      <th>Vin</th>\n",
       "      <th>Make</th>\n",
       "      <th>Model</th>\n",
       "    </tr>\n",
       "  </thead>\n",
       "  <tbody>\n",
       "    <tr>\n",
       "      <td>0</td>\n",
       "      <td>1</td>\n",
       "      <td>16472</td>\n",
       "      <td>2015</td>\n",
       "      <td>18681</td>\n",
       "      <td>Jefferson City</td>\n",
       "      <td>MO</td>\n",
       "      <td>KL4CJBSBXFB267643</td>\n",
       "      <td>Buick</td>\n",
       "      <td>EncoreConvenience</td>\n",
       "    </tr>\n",
       "    <tr>\n",
       "      <td>1</td>\n",
       "      <td>2</td>\n",
       "      <td>15749</td>\n",
       "      <td>2015</td>\n",
       "      <td>27592</td>\n",
       "      <td>Highland</td>\n",
       "      <td>IN</td>\n",
       "      <td>KL4CJASB5FB245057</td>\n",
       "      <td>Buick</td>\n",
       "      <td>EncoreFWD</td>\n",
       "    </tr>\n",
       "    <tr>\n",
       "      <td>2</td>\n",
       "      <td>3</td>\n",
       "      <td>16998</td>\n",
       "      <td>2015</td>\n",
       "      <td>13650</td>\n",
       "      <td>Boone</td>\n",
       "      <td>NC</td>\n",
       "      <td>KL4CJCSB0FB264921</td>\n",
       "      <td>Buick</td>\n",
       "      <td>EncoreLeather</td>\n",
       "    </tr>\n",
       "    <tr>\n",
       "      <td>3</td>\n",
       "      <td>4</td>\n",
       "      <td>15777</td>\n",
       "      <td>2015</td>\n",
       "      <td>25195</td>\n",
       "      <td>New Orleans</td>\n",
       "      <td>LA</td>\n",
       "      <td>KL4CJASB4FB217542</td>\n",
       "      <td>Buick</td>\n",
       "      <td>EncoreFWD</td>\n",
       "    </tr>\n",
       "    <tr>\n",
       "      <td>4</td>\n",
       "      <td>5</td>\n",
       "      <td>16784</td>\n",
       "      <td>2015</td>\n",
       "      <td>22800</td>\n",
       "      <td>Las Vegas</td>\n",
       "      <td>NV</td>\n",
       "      <td>KL4CJBSB3FB166881</td>\n",
       "      <td>Buick</td>\n",
       "      <td>EncoreConvenience</td>\n",
       "    </tr>\n",
       "    <tr>\n",
       "      <td>...</td>\n",
       "      <td>...</td>\n",
       "      <td>...</td>\n",
       "      <td>...</td>\n",
       "      <td>...</td>\n",
       "      <td>...</td>\n",
       "      <td>...</td>\n",
       "      <td>...</td>\n",
       "      <td>...</td>\n",
       "      <td>...</td>\n",
       "    </tr>\n",
       "    <tr>\n",
       "      <td>1233037</td>\n",
       "      <td>1233038</td>\n",
       "      <td>79900</td>\n",
       "      <td>2017</td>\n",
       "      <td>25</td>\n",
       "      <td>East Hanover</td>\n",
       "      <td>NJ</td>\n",
       "      <td>YV4BC0ZX0H1128239</td>\n",
       "      <td>Volvo</td>\n",
       "      <td>XC90T8</td>\n",
       "    </tr>\n",
       "    <tr>\n",
       "      <td>1233038</td>\n",
       "      <td>1233039</td>\n",
       "      <td>80895</td>\n",
       "      <td>2017</td>\n",
       "      <td>10</td>\n",
       "      <td>Corte Madera</td>\n",
       "      <td>CA</td>\n",
       "      <td>YV4BC0ZX0H1124188</td>\n",
       "      <td>Volvo</td>\n",
       "      <td>XC90T8</td>\n",
       "    </tr>\n",
       "    <tr>\n",
       "      <td>1233039</td>\n",
       "      <td>1233040</td>\n",
       "      <td>68755</td>\n",
       "      <td>2018</td>\n",
       "      <td>2500</td>\n",
       "      <td>Englewood</td>\n",
       "      <td>NJ</td>\n",
       "      <td>YV4A22PL4J1212676</td>\n",
       "      <td>Volvo</td>\n",
       "      <td>XC90T6</td>\n",
       "    </tr>\n",
       "    <tr>\n",
       "      <td>1233040</td>\n",
       "      <td>1233041</td>\n",
       "      <td>72260</td>\n",
       "      <td>2017</td>\n",
       "      <td>3201</td>\n",
       "      <td>Englewood</td>\n",
       "      <td>NJ</td>\n",
       "      <td>YV4A22PL3H1186162</td>\n",
       "      <td>Volvo</td>\n",
       "      <td>XC90T6</td>\n",
       "    </tr>\n",
       "    <tr>\n",
       "      <td>1233041</td>\n",
       "      <td>1233042</td>\n",
       "      <td>60240</td>\n",
       "      <td>2017</td>\n",
       "      <td>8342</td>\n",
       "      <td>San Leandro</td>\n",
       "      <td>CA</td>\n",
       "      <td>YV4A22NLXH1006162</td>\n",
       "      <td>Volvo</td>\n",
       "      <td>V90</td>\n",
       "    </tr>\n",
       "  </tbody>\n",
       "</table>\n",
       "<p>1230695 rows × 9 columns</p>\n",
       "</div>"
      ],
      "text/plain": [
       "              Id  Price  Year  Mileage            City State  \\\n",
       "0              1  16472  2015    18681  Jefferson City    MO   \n",
       "1              2  15749  2015    27592        Highland    IN   \n",
       "2              3  16998  2015    13650           Boone    NC   \n",
       "3              4  15777  2015    25195     New Orleans    LA   \n",
       "4              5  16784  2015    22800       Las Vegas    NV   \n",
       "...          ...    ...   ...      ...             ...   ...   \n",
       "1233037  1233038  79900  2017       25    East Hanover    NJ   \n",
       "1233038  1233039  80895  2017       10    Corte Madera    CA   \n",
       "1233039  1233040  68755  2018     2500       Englewood    NJ   \n",
       "1233040  1233041  72260  2017     3201       Englewood    NJ   \n",
       "1233041  1233042  60240  2017     8342     San Leandro    CA   \n",
       "\n",
       "                       Vin   Make              Model  \n",
       "0        KL4CJBSBXFB267643  Buick  EncoreConvenience  \n",
       "1        KL4CJASB5FB245057  Buick          EncoreFWD  \n",
       "2        KL4CJCSB0FB264921  Buick      EncoreLeather  \n",
       "3        KL4CJASB4FB217542  Buick          EncoreFWD  \n",
       "4        KL4CJBSB3FB166881  Buick  EncoreConvenience  \n",
       "...                    ...    ...                ...  \n",
       "1233037  YV4BC0ZX0H1128239  Volvo             XC90T8  \n",
       "1233038  YV4BC0ZX0H1124188  Volvo             XC90T8  \n",
       "1233039  YV4A22PL4J1212676  Volvo             XC90T6  \n",
       "1233040  YV4A22PL3H1186162  Volvo             XC90T6  \n",
       "1233041  YV4A22NLXH1006162  Volvo                V90  \n",
       "\n",
       "[1230695 rows x 9 columns]"
      ]
     },
     "execution_count": 58,
     "metadata": {},
     "output_type": "execute_result"
    }
   ],
   "source": [
    "df3 = new_data5[new_data5['Mileage'] < 1000000]\n",
    "df3"
   ]
  },
  {
   "cell_type": "code",
   "execution_count": 59,
   "metadata": {},
   "outputs": [],
   "source": [
    "# df3.to_csv('temp_dataset.csv')"
   ]
  },
  {
   "cell_type": "code",
   "execution_count": 60,
   "metadata": {},
   "outputs": [
    {
     "data": {
      "text/plain": [
       "3107"
      ]
     },
     "execution_count": 60,
     "metadata": {},
     "output_type": "execute_result"
    }
   ],
   "source": [
    "unique2 = df3['Model'].nunique()\n",
    "unique2"
   ]
  },
  {
   "cell_type": "code",
   "execution_count": 61,
   "metadata": {},
   "outputs": [
    {
     "data": {
      "text/plain": [
       "array(['EncoreConvenience', 'EncoreFWD', 'EncoreLeather', ..., 'V70GLT',\n",
       "       'V70R', '8504dr'], dtype=object)"
      ]
     },
     "execution_count": 61,
     "metadata": {},
     "output_type": "execute_result"
    }
   ],
   "source": [
    "unique3 = df3['Model'].unique()\n",
    "unique3"
   ]
  },
  {
   "cell_type": "code",
   "execution_count": 62,
   "metadata": {},
   "outputs": [
    {
     "data": {
      "text/plain": [
       "array([' MO', ' IN', ' NC', ' LA', ' NV', ' NY', ' CA', ' AR', ' FL',\n",
       "       ' AZ', ' KY', ' TN', ' MI', ' TX', ' PA', ' OK', ' NJ', ' MD',\n",
       "       ' OH', ' GA', ' CO', ' ND', ' AL', ' IL', ' MA', ' WA', ' WI',\n",
       "       ' MN', ' VA', ' KS', ' RI', ' OR', ' MS', ' NM', ' SC', ' NE',\n",
       "       ' IA', ' NH', ' UT', ' ME', ' CT', ' HI', ' ID', ' DE', ' MT',\n",
       "       ' WV', ' WY', ' SD', ' AK', ' VT', ' DC'], dtype=object)"
      ]
     },
     "execution_count": 62,
     "metadata": {},
     "output_type": "execute_result"
    }
   ],
   "source": [
    "unique4 = df3['State'].unique()\n",
    "unique4"
   ]
  },
  {
   "cell_type": "code",
   "execution_count": 63,
   "metadata": {
    "scrolled": true
   },
   "outputs": [
    {
     "data": {
      "text/plain": [
       "array([2015, 2016, 2014, 2017, 2013, 2006, 2003, 2007, 2005, 2012, 2011,\n",
       "       2004, 2009, 2008, 2001, 2010, 2018, 2002, 2000, 1999, 1997, 1998])"
      ]
     },
     "execution_count": 63,
     "metadata": {},
     "output_type": "execute_result"
    }
   ],
   "source": [
    "unique5 = df3['Year'].unique()\n",
    "unique5"
   ]
  },
  {
   "cell_type": "code",
   "execution_count": 64,
   "metadata": {},
   "outputs": [],
   "source": [
    "df3.to_csv('next_dataset5.csv')"
   ]
  },
  {
   "cell_type": "code",
   "execution_count": null,
   "metadata": {},
   "outputs": [],
   "source": []
  }
 ],
 "metadata": {
  "kernelspec": {
   "display_name": "Python 3",
   "language": "python",
   "name": "python3"
  },
  "language_info": {
   "codemirror_mode": {
    "name": "ipython",
    "version": 3
   },
   "file_extension": ".py",
   "mimetype": "text/x-python",
   "name": "python",
   "nbconvert_exporter": "python",
   "pygments_lexer": "ipython3",
   "version": "3.7.4"
  }
 },
 "nbformat": 4,
 "nbformat_minor": 2
}
